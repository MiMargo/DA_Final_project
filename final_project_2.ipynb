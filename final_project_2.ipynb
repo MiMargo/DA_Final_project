{
 "cells": [
  {
   "cell_type": "markdown",
   "metadata": {},
   "source": [
    "# Задание 2"
   ]
  },
  {
   "cell_type": "markdown",
   "metadata": {},
   "source": [
    "#### Имеются результаты A/B теста, в котором двум группам пользователей предлагались различные наборы акционных предложений. Известно, что ARPU в тестовой группе выше на 5%, чем в контрольной. При этом в контрольной группе 1928 игроков из 202103 оказались платящими, а в тестовой – 1805 из 202667. Какой набор предложений можно считать лучшим? Какие метрики стоит проанализировать для принятия правильного решения и как?"
   ]
  },
  {
   "cell_type": "markdown",
   "metadata": {},
   "source": [
    "## Импорт данных"
   ]
  },
  {
   "cell_type": "code",
   "execution_count": 1,
   "metadata": {},
   "outputs": [],
   "source": [
    "import pandas as pd\n",
    "from urllib.parse import urlencode\n",
    "import requests\n",
    "\n",
    "import seaborn as sns\n",
    "\n",
    "from scipy.stats import kstest\n",
    "from scipy.stats import fligner\n",
    "from scipy.stats import ttest_ind\n",
    "from scipy.stats import chi2_contingency"
   ]
  },
  {
   "cell_type": "code",
   "execution_count": 2,
   "metadata": {},
   "outputs": [],
   "source": [
    "base_url = 'https://cloud-api.yandex.net/v1/disk/public/resources/download?'\n",
    "public_key = 'https://disk.yandex.ru/d/SOkIsD5A8xlI7Q'\n",
    "final_url = base_url + urlencode(dict(public_key=public_key))"
   ]
  },
  {
   "cell_type": "code",
   "execution_count": 3,
   "metadata": {},
   "outputs": [],
   "source": [
    "data = pd.read_csv(requests.get(final_url).json()['href'], sep=';')"
   ]
  },
  {
   "cell_type": "code",
   "execution_count": 4,
   "metadata": {},
   "outputs": [
    {
     "data": {
      "text/html": [
       "<div>\n",
       "<style scoped>\n",
       "    .dataframe tbody tr th:only-of-type {\n",
       "        vertical-align: middle;\n",
       "    }\n",
       "\n",
       "    .dataframe tbody tr th {\n",
       "        vertical-align: top;\n",
       "    }\n",
       "\n",
       "    .dataframe thead th {\n",
       "        text-align: right;\n",
       "    }\n",
       "</style>\n",
       "<table border=\"1\" class=\"dataframe\">\n",
       "  <thead>\n",
       "    <tr style=\"text-align: right;\">\n",
       "      <th></th>\n",
       "      <th>user_id</th>\n",
       "      <th>revenue</th>\n",
       "      <th>testgroup</th>\n",
       "    </tr>\n",
       "  </thead>\n",
       "  <tbody>\n",
       "    <tr>\n",
       "      <th>0</th>\n",
       "      <td>1</td>\n",
       "      <td>0</td>\n",
       "      <td>b</td>\n",
       "    </tr>\n",
       "    <tr>\n",
       "      <th>1</th>\n",
       "      <td>2</td>\n",
       "      <td>0</td>\n",
       "      <td>a</td>\n",
       "    </tr>\n",
       "    <tr>\n",
       "      <th>2</th>\n",
       "      <td>3</td>\n",
       "      <td>0</td>\n",
       "      <td>a</td>\n",
       "    </tr>\n",
       "    <tr>\n",
       "      <th>3</th>\n",
       "      <td>4</td>\n",
       "      <td>0</td>\n",
       "      <td>b</td>\n",
       "    </tr>\n",
       "    <tr>\n",
       "      <th>4</th>\n",
       "      <td>5</td>\n",
       "      <td>0</td>\n",
       "      <td>b</td>\n",
       "    </tr>\n",
       "  </tbody>\n",
       "</table>\n",
       "</div>"
      ],
      "text/plain": [
       "   user_id  revenue testgroup\n",
       "0        1        0         b\n",
       "1        2        0         a\n",
       "2        3        0         a\n",
       "3        4        0         b\n",
       "4        5        0         b"
      ]
     },
     "execution_count": 4,
     "metadata": {},
     "output_type": "execute_result"
    }
   ],
   "source": [
    "data.head()"
   ]
  },
  {
   "cell_type": "markdown",
   "metadata": {},
   "source": [
    "### Предварительный анализ"
   ]
  },
  {
   "cell_type": "code",
   "execution_count": 5,
   "metadata": {},
   "outputs": [
    {
     "name": "stdout",
     "output_type": "stream",
     "text": [
      "<class 'pandas.core.frame.DataFrame'>\n",
      "RangeIndex: 404770 entries, 0 to 404769\n",
      "Data columns (total 3 columns):\n",
      " #   Column     Non-Null Count   Dtype \n",
      "---  ------     --------------   ----- \n",
      " 0   user_id    404770 non-null  int64 \n",
      " 1   revenue    404770 non-null  int64 \n",
      " 2   testgroup  404770 non-null  object\n",
      "dtypes: int64(2), object(1)\n",
      "memory usage: 9.3+ MB\n"
     ]
    }
   ],
   "source": [
    "data.info()"
   ]
  },
  {
   "cell_type": "code",
   "execution_count": 6,
   "metadata": {},
   "outputs": [
    {
     "data": {
      "text/plain": [
       "0"
      ]
     },
     "execution_count": 6,
     "metadata": {},
     "output_type": "execute_result"
    }
   ],
   "source": [
    "# Проверка наличия дубликатов в данных\n",
    "data.duplicated().sum()"
   ]
  },
  {
   "cell_type": "markdown",
   "metadata": {},
   "source": [
    "Видим, что в данных нет отсутствующих значений и дубликатов. Тип колонок соответствует содержимому."
   ]
  },
  {
   "cell_type": "markdown",
   "metadata": {},
   "source": [
    "## Решение"
   ]
  },
  {
   "cell_type": "markdown",
   "metadata": {},
   "source": [
    "##### 1. Для ответа на вопросы задания проанализируем покупки пользователей (revenue > 0) в каждой из групп по отдельности. Сравним минальные и максимальные суммы покупок и их распределение.\n",
    "##### 2. Известно, что ARPU в тестовой группе увеличился на 5 процентов. Проверим, является ли это изменение статистически значимым. Таже проверим изменились ли такие метрики, как ARPPU (средний доход на платящего клиента) и конверсия (CR)."
   ]
  },
  {
   "cell_type": "markdown",
   "metadata": {},
   "source": [
    "### 1. Анализ групп"
   ]
  },
  {
   "cell_type": "code",
   "execution_count": 7,
   "metadata": {},
   "outputs": [
    {
     "data": {
      "text/html": [
       "<div>\n",
       "<style scoped>\n",
       "    .dataframe tbody tr th:only-of-type {\n",
       "        vertical-align: middle;\n",
       "    }\n",
       "\n",
       "    .dataframe tbody tr th {\n",
       "        vertical-align: top;\n",
       "    }\n",
       "\n",
       "    .dataframe thead th {\n",
       "        text-align: right;\n",
       "    }\n",
       "</style>\n",
       "<table border=\"1\" class=\"dataframe\">\n",
       "  <thead>\n",
       "    <tr style=\"text-align: right;\">\n",
       "      <th></th>\n",
       "      <th>user_id</th>\n",
       "      <th>revenue</th>\n",
       "    </tr>\n",
       "  </thead>\n",
       "  <tbody>\n",
       "    <tr>\n",
       "      <th>count</th>\n",
       "      <td>1928.000000</td>\n",
       "      <td>1928.000000</td>\n",
       "    </tr>\n",
       "    <tr>\n",
       "      <th>mean</th>\n",
       "      <td>200152.677905</td>\n",
       "      <td>2663.998444</td>\n",
       "    </tr>\n",
       "    <tr>\n",
       "      <th>std</th>\n",
       "      <td>116596.504905</td>\n",
       "      <td>9049.039763</td>\n",
       "    </tr>\n",
       "    <tr>\n",
       "      <th>min</th>\n",
       "      <td>73.000000</td>\n",
       "      <td>200.000000</td>\n",
       "    </tr>\n",
       "    <tr>\n",
       "      <th>25%</th>\n",
       "      <td>99323.000000</td>\n",
       "      <td>257.000000</td>\n",
       "    </tr>\n",
       "    <tr>\n",
       "      <th>50%</th>\n",
       "      <td>199854.500000</td>\n",
       "      <td>311.000000</td>\n",
       "    </tr>\n",
       "    <tr>\n",
       "      <th>75%</th>\n",
       "      <td>299664.250000</td>\n",
       "      <td>361.000000</td>\n",
       "    </tr>\n",
       "    <tr>\n",
       "      <th>max</th>\n",
       "      <td>404768.000000</td>\n",
       "      <td>37433.000000</td>\n",
       "    </tr>\n",
       "  </tbody>\n",
       "</table>\n",
       "</div>"
      ],
      "text/plain": [
       "             user_id       revenue\n",
       "count    1928.000000   1928.000000\n",
       "mean   200152.677905   2663.998444\n",
       "std    116596.504905   9049.039763\n",
       "min        73.000000    200.000000\n",
       "25%     99323.000000    257.000000\n",
       "50%    199854.500000    311.000000\n",
       "75%    299664.250000    361.000000\n",
       "max    404768.000000  37433.000000"
      ]
     },
     "execution_count": 7,
     "metadata": {},
     "output_type": "execute_result"
    }
   ],
   "source": [
    "data.query('testgroup == \"a\" and revenue > 0').describe()"
   ]
  },
  {
   "cell_type": "code",
   "execution_count": 8,
   "metadata": {},
   "outputs": [
    {
     "data": {
      "text/plain": [
       "<matplotlib.axes._subplots.AxesSubplot at 0x7f4f003c9940>"
      ]
     },
     "execution_count": 8,
     "metadata": {},
     "output_type": "execute_result"
    },
    {
     "data": {
      "image/png": "[encoded data removed]",
      "text/plain": [
       "<Figure size 432x288 with 1 Axes>"
      ]
     },
     "metadata": {
      "needs_background": "light"
     },
     "output_type": "display_data"
    }
   ],
   "source": [
    "sns.histplot(data.query('testgroup == \"a\" and revenue > 0').revenue, kde = False)"
   ]
  },
  {
   "cell_type": "code",
   "execution_count": 9,
   "metadata": {},
   "outputs": [
    {
     "data": {
      "text/html": [
       "<div>\n",
       "<style scoped>\n",
       "    .dataframe tbody tr th:only-of-type {\n",
       "        vertical-align: middle;\n",
       "    }\n",
       "\n",
       "    .dataframe tbody tr th {\n",
       "        vertical-align: top;\n",
       "    }\n",
       "\n",
       "    .dataframe thead th {\n",
       "        text-align: right;\n",
       "    }\n",
       "</style>\n",
       "<table border=\"1\" class=\"dataframe\">\n",
       "  <thead>\n",
       "    <tr style=\"text-align: right;\">\n",
       "      <th></th>\n",
       "      <th>user_id</th>\n",
       "      <th>revenue</th>\n",
       "    </tr>\n",
       "  </thead>\n",
       "  <tbody>\n",
       "    <tr>\n",
       "      <th>count</th>\n",
       "      <td>1805.000000</td>\n",
       "      <td>1805.000000</td>\n",
       "    </tr>\n",
       "    <tr>\n",
       "      <th>mean</th>\n",
       "      <td>205834.548476</td>\n",
       "      <td>3003.658172</td>\n",
       "    </tr>\n",
       "    <tr>\n",
       "      <th>std</th>\n",
       "      <td>116400.045485</td>\n",
       "      <td>572.619709</td>\n",
       "    </tr>\n",
       "    <tr>\n",
       "      <th>min</th>\n",
       "      <td>161.000000</td>\n",
       "      <td>2000.000000</td>\n",
       "    </tr>\n",
       "    <tr>\n",
       "      <th>25%</th>\n",
       "      <td>106815.000000</td>\n",
       "      <td>2513.000000</td>\n",
       "    </tr>\n",
       "    <tr>\n",
       "      <th>50%</th>\n",
       "      <td>206651.000000</td>\n",
       "      <td>3022.000000</td>\n",
       "    </tr>\n",
       "    <tr>\n",
       "      <th>75%</th>\n",
       "      <td>304907.000000</td>\n",
       "      <td>3478.000000</td>\n",
       "    </tr>\n",
       "    <tr>\n",
       "      <th>max</th>\n",
       "      <td>404526.000000</td>\n",
       "      <td>4000.000000</td>\n",
       "    </tr>\n",
       "  </tbody>\n",
       "</table>\n",
       "</div>"
      ],
      "text/plain": [
       "             user_id      revenue\n",
       "count    1805.000000  1805.000000\n",
       "mean   205834.548476  3003.658172\n",
       "std    116400.045485   572.619709\n",
       "min       161.000000  2000.000000\n",
       "25%    106815.000000  2513.000000\n",
       "50%    206651.000000  3022.000000\n",
       "75%    304907.000000  3478.000000\n",
       "max    404526.000000  4000.000000"
      ]
     },
     "execution_count": 9,
     "metadata": {},
     "output_type": "execute_result"
    }
   ],
   "source": [
    "data.query('testgroup == \"b\" and revenue > 0').describe()"
   ]
  },
  {
   "cell_type": "code",
   "execution_count": 10,
   "metadata": {},
   "outputs": [
    {
     "data": {
      "text/plain": [
       "<matplotlib.axes._subplots.AxesSubplot at 0x7f4efe5c2048>"
      ]
     },
     "execution_count": 10,
     "metadata": {},
     "output_type": "execute_result"
    },
    {
     "data": {
      "image/png": "[encoded data removed]",
      "text/plain": [
       "<Figure size 432x288 with 1 Axes>"
      ]
     },
     "metadata": {
      "needs_background": "light"
     },
     "output_type": "display_data"
    }
   ],
   "source": [
    "sns.histplot(data.query('testgroup == \"b\" and revenue > 0').revenue, kde = False)"
   ]
  },
  {
   "cell_type": "markdown",
   "metadata": {},
   "source": [
    "В группе А максимальная сумма покупки сильно отличается от 75 перцентиля. На графике также видно, что бОльшая часть покупок с суммой до 5000. В то время, как в группе В нет заметных различий между покупками. "
   ]
  },
  {
   "cell_type": "markdown",
   "metadata": {},
   "source": [
    "Разделим группу А на две части по сумме покупок и посмотрим подробнее на каждую из них."
   ]
  },
  {
   "cell_type": "code",
   "execution_count": 11,
   "metadata": {},
   "outputs": [
    {
     "data": {
      "text/html": [
       "<div>\n",
       "<style scoped>\n",
       "    .dataframe tbody tr th:only-of-type {\n",
       "        vertical-align: middle;\n",
       "    }\n",
       "\n",
       "    .dataframe tbody tr th {\n",
       "        vertical-align: top;\n",
       "    }\n",
       "\n",
       "    .dataframe thead th {\n",
       "        text-align: right;\n",
       "    }\n",
       "</style>\n",
       "<table border=\"1\" class=\"dataframe\">\n",
       "  <thead>\n",
       "    <tr style=\"text-align: right;\">\n",
       "      <th></th>\n",
       "      <th>user_id</th>\n",
       "      <th>revenue</th>\n",
       "    </tr>\n",
       "  </thead>\n",
       "  <tbody>\n",
       "    <tr>\n",
       "      <th>count</th>\n",
       "      <td>123.000000</td>\n",
       "      <td>123.000000</td>\n",
       "    </tr>\n",
       "    <tr>\n",
       "      <th>mean</th>\n",
       "      <td>203513.073171</td>\n",
       "      <td>37319.121951</td>\n",
       "    </tr>\n",
       "    <tr>\n",
       "      <th>std</th>\n",
       "      <td>116745.137742</td>\n",
       "      <td>25.442183</td>\n",
       "    </tr>\n",
       "    <tr>\n",
       "      <th>min</th>\n",
       "      <td>417.000000</td>\n",
       "      <td>37293.000000</td>\n",
       "    </tr>\n",
       "    <tr>\n",
       "      <th>25%</th>\n",
       "      <td>109013.500000</td>\n",
       "      <td>37301.000000</td>\n",
       "    </tr>\n",
       "    <tr>\n",
       "      <th>50%</th>\n",
       "      <td>204560.000000</td>\n",
       "      <td>37311.000000</td>\n",
       "    </tr>\n",
       "    <tr>\n",
       "      <th>75%</th>\n",
       "      <td>317108.500000</td>\n",
       "      <td>37329.000000</td>\n",
       "    </tr>\n",
       "    <tr>\n",
       "      <th>max</th>\n",
       "      <td>399295.000000</td>\n",
       "      <td>37433.000000</td>\n",
       "    </tr>\n",
       "  </tbody>\n",
       "</table>\n",
       "</div>"
      ],
      "text/plain": [
       "             user_id       revenue\n",
       "count     123.000000    123.000000\n",
       "mean   203513.073171  37319.121951\n",
       "std    116745.137742     25.442183\n",
       "min       417.000000  37293.000000\n",
       "25%    109013.500000  37301.000000\n",
       "50%    204560.000000  37311.000000\n",
       "75%    317108.500000  37329.000000\n",
       "max    399295.000000  37433.000000"
      ]
     },
     "execution_count": 11,
     "metadata": {},
     "output_type": "execute_result"
    }
   ],
   "source": [
    "data.query('testgroup == \"a\" and revenue > 0 and revenue > 5000').describe()"
   ]
  },
  {
   "cell_type": "markdown",
   "metadata": {},
   "source": [
    "Всего 123 игрока свыше 5000, нет оснований считать это выбросами."
   ]
  },
  {
   "cell_type": "code",
   "execution_count": 12,
   "metadata": {},
   "outputs": [
    {
     "data": {
      "text/html": [
       "<div>\n",
       "<style scoped>\n",
       "    .dataframe tbody tr th:only-of-type {\n",
       "        vertical-align: middle;\n",
       "    }\n",
       "\n",
       "    .dataframe tbody tr th {\n",
       "        vertical-align: top;\n",
       "    }\n",
       "\n",
       "    .dataframe thead th {\n",
       "        text-align: right;\n",
       "    }\n",
       "</style>\n",
       "<table border=\"1\" class=\"dataframe\">\n",
       "  <thead>\n",
       "    <tr style=\"text-align: right;\">\n",
       "      <th></th>\n",
       "      <th>user_id</th>\n",
       "      <th>revenue</th>\n",
       "    </tr>\n",
       "  </thead>\n",
       "  <tbody>\n",
       "    <tr>\n",
       "      <th>count</th>\n",
       "      <td>1805.000000</td>\n",
       "      <td>1805.000000</td>\n",
       "    </tr>\n",
       "    <tr>\n",
       "      <th>mean</th>\n",
       "      <td>199923.686981</td>\n",
       "      <td>302.458172</td>\n",
       "    </tr>\n",
       "    <tr>\n",
       "      <th>std</th>\n",
       "      <td>116615.234772</td>\n",
       "      <td>57.914246</td>\n",
       "    </tr>\n",
       "    <tr>\n",
       "      <th>min</th>\n",
       "      <td>73.000000</td>\n",
       "      <td>200.000000</td>\n",
       "    </tr>\n",
       "    <tr>\n",
       "      <th>25%</th>\n",
       "      <td>98963.000000</td>\n",
       "      <td>254.000000</td>\n",
       "    </tr>\n",
       "    <tr>\n",
       "      <th>50%</th>\n",
       "      <td>199268.000000</td>\n",
       "      <td>305.000000</td>\n",
       "    </tr>\n",
       "    <tr>\n",
       "      <th>75%</th>\n",
       "      <td>298918.000000</td>\n",
       "      <td>352.000000</td>\n",
       "    </tr>\n",
       "    <tr>\n",
       "      <th>max</th>\n",
       "      <td>404768.000000</td>\n",
       "      <td>400.000000</td>\n",
       "    </tr>\n",
       "  </tbody>\n",
       "</table>\n",
       "</div>"
      ],
      "text/plain": [
       "             user_id      revenue\n",
       "count    1805.000000  1805.000000\n",
       "mean   199923.686981   302.458172\n",
       "std    116615.234772    57.914246\n",
       "min        73.000000   200.000000\n",
       "25%     98963.000000   254.000000\n",
       "50%    199268.000000   305.000000\n",
       "75%    298918.000000   352.000000\n",
       "max    404768.000000   400.000000"
      ]
     },
     "execution_count": 12,
     "metadata": {},
     "output_type": "execute_result"
    }
   ],
   "source": [
    "data.query('testgroup == \"a\" and revenue > 0 and revenue < 5000').describe()"
   ]
  },
  {
   "cell_type": "code",
   "execution_count": 13,
   "metadata": {},
   "outputs": [
    {
     "data": {
      "text/plain": [
       "<matplotlib.axes._subplots.AxesSubplot at 0x7f4efe2cab00>"
      ]
     },
     "execution_count": 13,
     "metadata": {},
     "output_type": "execute_result"
    },
    {
     "data": {
      "image/png": "[encoded data removed]",
      "text/plain": [
       "<Figure size 432x288 with 1 Axes>"
      ]
     },
     "metadata": {
      "needs_background": "light"
     },
     "output_type": "display_data"
    }
   ],
   "source": [
    "sns.histplot(data.query('testgroup == \"a\" and revenue > 0 and revenue < 5000').revenue, kde = False)"
   ]
  },
  {
   "cell_type": "markdown",
   "metadata": {},
   "source": [
    "Мы видим четкое разделение пользователей группы А:\n",
    " - 123 (7%) пользователя с суммой покупок от 37293 до 37433;\n",
    " - 1805 (93%) пользователей с суммой покупок от 200 до 400.\n",
    " \n",
    "Это либо очень дорогие покупки, либо очень дешевые. Нет ни одного пользователя с чеком в среднем ценовом диапазоне.  \n",
    " \n",
    "В то время, как в группе В - 1805 (100%) пользователей с суммой покупок 2000 до 4000. Но нет ни одной дорогой или дешевой покупки. \n",
    "\n",
    "Мы наблюдаем слишком разный характер покупок у пользователей. Возможно, разделение на группы было проведено не корректно."
   ]
  },
  {
   "cell_type": "markdown",
   "metadata": {},
   "source": [
    "### 2. Анализ метрик"
   ]
  },
  {
   "cell_type": "markdown",
   "metadata": {},
   "source": [
    "#### ARPU (Average revenue per user) - cредний доход с привлечённого пользователя"
   ]
  },
  {
   "cell_type": "markdown",
   "metadata": {},
   "source": [
    "Проверим нормально ли распределены данные. Выборки большие, поэтому буду использовать критерий Колмогорова-Смирнова.\n",
    "- H0 - распределение нормальное\n",
    "- H1 - распределение не нормальное\n",
    "- уровень значимости 0,05"
   ]
  },
  {
   "cell_type": "code",
   "execution_count": 14,
   "metadata": {},
   "outputs": [],
   "source": [
    "# уровень значимости для проверки (далее испольузется во всех тестах)\n",
    "alpha = 0.05"
   ]
  },
  {
   "cell_type": "code",
   "execution_count": 15,
   "metadata": {},
   "outputs": [],
   "source": [
    "revenue_a = data.query('testgroup == \"a\"').revenue\n",
    "revenue_b = data.query('testgroup == \"b\"').revenue"
   ]
  },
  {
   "cell_type": "code",
   "execution_count": 16,
   "metadata": {},
   "outputs": [
    {
     "name": "stdout",
     "output_type": "stream",
     "text": [
      "Статистика: 0.5014699438603156\n",
      "p-значение: 0.0\n",
      "Отвергаем нулевую гипотезу, данные не подчиняются нормальному распределению.\n"
     ]
    }
   ],
   "source": [
    " # расчет p-value для контрольной группы\n",
    "statistic_a, p_value_a = kstest(revenue_a, 'norm', args=(revenue_a.mean(), revenue_a.std()))\n",
    "\n",
    "print(\"Статистика:\", statistic_a)\n",
    "print(\"p-значение:\", p_value_a)\n",
    "\n",
    "if p_value_a > alpha: \n",
    "    print(\"Не отвергаем нулевую гипотезу, данные подчиняются нормальному распределению.\")\n",
    "else:\n",
    "    print(\"Отвергаем нулевую гипотезу, данные не подчиняются нормальному распределению.\")"
   ]
  },
  {
   "cell_type": "code",
   "execution_count": 17,
   "metadata": {},
   "outputs": [
    {
     "name": "stdout",
     "output_type": "stream",
     "text": [
      "Статистика: 0.5281836512609979\n",
      "p-значение: 0.0\n",
      "Отвергаем нулевую гипотезу, данные не подчиняются нормальному распределению.\n"
     ]
    }
   ],
   "source": [
    " # расчет p-value для тестовой группы\n",
    "statistic_b, p_value_b = kstest(revenue_b, 'norm', args=(revenue_b.mean(), revenue_b.std()))\n",
    "\n",
    "print(\"Статистика:\", statistic_b)\n",
    "print(\"p-значение:\", p_value_b)\n",
    "\n",
    "if p_value_b > alpha:   \n",
    "    print(\"Не отвергаем нулевую гипотезу, данные подчиняются нормальному распределению.\")\n",
    "else:\n",
    "    print(\"Отвергаем нулевую гипотезу, данные не подчиняются нормальному распределению.\")"
   ]
  },
  {
   "cell_type": "markdown",
   "metadata": {},
   "source": [
    "Данные не распределены нормально, поэтому для проверки гомогенности дисперсий между группами данных буду использовать тест Флигнера-Килина.\n",
    "- H0 - дисперсии в группах гомогенны\n",
    "- H1 - дисперсии в группах не гомогенны\n",
    "- alpha - уровень значимости 0,05"
   ]
  },
  {
   "cell_type": "code",
   "execution_count": 18,
   "metadata": {},
   "outputs": [
    {
     "name": "stdout",
     "output_type": "stream",
     "text": [
      "Статистика: 3.471954002541341\n",
      "p-значение: 0.06241753788067474\n",
      "Не отвергаем нулевую гипотезу, дисперсии групп гомогенны.\n"
     ]
    }
   ],
   "source": [
    "statistic, p_value = fligner(revenue_a, revenue_b)\n",
    "\n",
    "print(\"Статистика:\", statistic)\n",
    "print(\"p-значение:\", p_value)\n",
    "\n",
    "if p_value > alpha:   \n",
    "    print(\"Не отвергаем нулевую гипотезу, дисперсии групп гомогенны.\")\n",
    "else:\n",
    "    print(\"Отвергаем нулевую гипотезу, дисперсии групп не гомогенны.\")"
   ]
  },
  {
   "cell_type": "markdown",
   "metadata": {},
   "source": [
    "Дисперсии в группах гомогенны, данные не распределены нормально, однако выборка достаточно большая, поэтому можно воспользовться t-тестом:\n",
    "- H0 - между ARPU в контрольной и тестовой группах нет статистически значимых отличий\n",
    "- H1 - ARPU в группах статистически значимо отличаются\n",
    "- уровень значимости 0,05"
   ]
  },
  {
   "cell_type": "code",
   "execution_count": 19,
   "metadata": {},
   "outputs": [
    {
     "name": "stdout",
     "output_type": "stream",
     "text": [
      "Статистика: -0.6242026493616787\n",
      "p-value: 0.532494858971837\n",
      "Не отвергаем нулевую гипотезу, между ARPU в контрольной и тестовой группах нет статистически значимых отличий.\n"
     ]
    }
   ],
   "source": [
    "statistic, p_value = ttest_ind(revenue_a, revenue_b)\n",
    "\n",
    "print(\"Статистика:\", statistic)\n",
    "print(\"p-value:\", p_value)\n",
    "\n",
    "if p_value > alpha:\n",
    "    print(\"Не отвергаем нулевую гипотезу, между ARPU в контрольной и тестовой группах нет статистически значимых отличий.\")    \n",
    "else:    \n",
    "    print(\"Отвергаем нулевую гипотезу, ARPU в группах статистически значимо отличаются.\")"
   ]
  },
  {
   "cell_type": "code",
   "execution_count": null,
   "metadata": {},
   "outputs": [],
   "source": []
  },
  {
   "cell_type": "markdown",
   "metadata": {},
   "source": [
    "#### ARPPU (Average revenue per paying user) - cредний доход на платящего пользователя"
   ]
  },
  {
   "cell_type": "markdown",
   "metadata": {},
   "source": [
    "Для проверки номральности распределения данных буду использовать критерий Колмогорова-Смирнова.\n",
    "- H0 - распределение нормальное\n",
    "- H1 - распределение не нормальное\n",
    "- уровень значимости 0,05"
   ]
  },
  {
   "cell_type": "code",
   "execution_count": 20,
   "metadata": {},
   "outputs": [],
   "source": [
    "revenue_pay_a = data.query('testgroup == \"a\" and revenue > 0').revenue\n",
    "revenue_pay_b = data.query('testgroup == \"b\" and revenue > 0').revenue"
   ]
  },
  {
   "cell_type": "code",
   "execution_count": 21,
   "metadata": {},
   "outputs": [
    {
     "name": "stdout",
     "output_type": "stream",
     "text": [
      "Статистика: 0.5349839301479891\n",
      "p-значение: 0.0\n",
      "Отвергаем нулевую гипотезу, данные не подчиняются нормальному распределению.\n"
     ]
    }
   ],
   "source": [
    " # расчет p-value для контрольной группы\n",
    "statistic_a, p_value_a = kstest(revenue_pay_a, 'norm', args=(revenue_pay_a.mean(), revenue_pay_a.std()))\n",
    "\n",
    "print(\"Статистика:\", statistic_a)\n",
    "print(\"p-значение:\", p_value_a)\n",
    "\n",
    "if p_value_a > alpha: \n",
    "    print(\"Не отвергаем нулевую гипотезу, данные подчиняются нормальному распределению.\")\n",
    "else:\n",
    "    print(\"Отвергаем нулевую гипотезу, данные не подчиняются нормальному распределению.\")"
   ]
  },
  {
   "cell_type": "code",
   "execution_count": 22,
   "metadata": {},
   "outputs": [
    {
     "name": "stdout",
     "output_type": "stream",
     "text": [
      "Статистика: 0.06367048870736003\n",
      "p-значение: 8.353206920272851e-07\n",
      "Отвергаем нулевую гипотезу, данные не подчиняются нормальному распределению.\n"
     ]
    }
   ],
   "source": [
    " # расчет p-value для тестовой группы\n",
    "statistic_b, p_value_b = kstest(revenue_pay_b, 'norm', args=(revenue_pay_b.mean(), revenue_pay_b.std()))\n",
    "\n",
    "print(\"Статистика:\", statistic_b)\n",
    "print(\"p-значение:\", p_value_b)\n",
    "\n",
    "if p_value_b > alpha:   \n",
    "    print(\"Не отвергаем нулевую гипотезу, данные подчиняются нормальному распределению.\")\n",
    "else:\n",
    "    print(\"Отвергаем нулевую гипотезу, данные не подчиняются нормальному распределению.\")"
   ]
  },
  {
   "cell_type": "code",
   "execution_count": 23,
   "metadata": {},
   "outputs": [
    {
     "name": "stdout",
     "output_type": "stream",
     "text": [
      "Статистика: 1104.3753534561174\n",
      "p-значение: 3.6976718568764444e-242\n",
      "Отвергаем нулевую гипотезу, данные не гомогенны.\n"
     ]
    }
   ],
   "source": [
    "statistic, p_value = fligner(revenue_pay_a, revenue_pay_b)\n",
    "\n",
    "print(\"Статистика:\", statistic)\n",
    "print(\"p-значение:\", p_value)\n",
    "\n",
    "if p_value > alpha:   \n",
    "    print(\"Не отвергаем нулевую гипотезу, данные гомогенны.\")\n",
    "else:\n",
    "    print(\"Отвергаем нулевую гипотезу, данные не гомогенны.\")"
   ]
  },
  {
   "cell_type": "code",
   "execution_count": 24,
   "metadata": {},
   "outputs": [
    {
     "name": "stdout",
     "output_type": "stream",
     "text": [
      "Статистика: -1.6446302664300838\n",
      "p-value: 0.10020780398916015\n",
      "Не отвергаем нулевую гипотезу, между ARPPU в контрольной и тестовой группах нет статистически значимых отличий.\n"
     ]
    }
   ],
   "source": [
    "statistic, p_value = ttest_ind(revenue_pay_a, revenue_pay_b, equal_var=False)\n",
    "\n",
    "print(\"Статистика:\", statistic)\n",
    "print(\"p-value:\", p_value)\n",
    "\n",
    "if p_value > alpha:\n",
    "    print(\"Не отвергаем нулевую гипотезу, между ARPPU в контрольной и тестовой группах нет статистически значимых отличий.\")    \n",
    "else:    \n",
    "    print(\"Отвергаем нулевую гипотезу, ARPPU в группах статистически значимо отличаются.\")"
   ]
  },
  {
   "cell_type": "code",
   "execution_count": null,
   "metadata": {},
   "outputs": [],
   "source": []
  },
  {
   "cell_type": "markdown",
   "metadata": {},
   "source": [
    "#### CR (convertion rate) - конверсия"
   ]
  },
  {
   "cell_type": "markdown",
   "metadata": {},
   "source": [
    "Для сравнения конверсий групп воспользуюсь критерием хи-квадрат.\n",
    "- H0 - CR в контрольной и тестовой группах не отличаются\n",
    "- H1 - CR в группах отличаются\n",
    "- уровень значимости 0,05"
   ]
  },
  {
   "cell_type": "code",
   "execution_count": 25,
   "metadata": {},
   "outputs": [
    {
     "data": {
      "text/html": [
       "<div>\n",
       "<style scoped>\n",
       "    .dataframe tbody tr th:only-of-type {\n",
       "        vertical-align: middle;\n",
       "    }\n",
       "\n",
       "    .dataframe tbody tr th {\n",
       "        vertical-align: top;\n",
       "    }\n",
       "\n",
       "    .dataframe thead th {\n",
       "        text-align: right;\n",
       "    }\n",
       "</style>\n",
       "<table border=\"1\" class=\"dataframe\">\n",
       "  <thead>\n",
       "    <tr style=\"text-align: right;\">\n",
       "      <th>paying_users</th>\n",
       "      <th>False</th>\n",
       "      <th>True</th>\n",
       "    </tr>\n",
       "    <tr>\n",
       "      <th>testgroup</th>\n",
       "      <th></th>\n",
       "      <th></th>\n",
       "    </tr>\n",
       "  </thead>\n",
       "  <tbody>\n",
       "    <tr>\n",
       "      <th>a</th>\n",
       "      <td>200175</td>\n",
       "      <td>1928</td>\n",
       "    </tr>\n",
       "    <tr>\n",
       "      <th>b</th>\n",
       "      <td>200862</td>\n",
       "      <td>1805</td>\n",
       "    </tr>\n",
       "  </tbody>\n",
       "</table>\n",
       "</div>"
      ],
      "text/plain": [
       "paying_users   False  True \n",
       "testgroup                  \n",
       "a             200175   1928\n",
       "b             200862   1805"
      ]
     },
     "execution_count": 25,
     "metadata": {},
     "output_type": "execute_result"
    }
   ],
   "source": [
    "# кросс-таблица с платящими и не платящими пользователями по группам\n",
    "data['paying_users'] = (data.revenue > 0)\n",
    "cross_tab = data.groupby(['testgroup', 'paying_users'], as_index=False) \\\n",
    "        .agg({'user_id': 'count'}) \\\n",
    "        .pivot(index='testgroup', columns='paying_users', values='user_id')\n",
    "cross_tab"
   ]
  },
  {
   "cell_type": "code",
   "execution_count": 26,
   "metadata": {},
   "outputs": [
    {
     "name": "stdout",
     "output_type": "stream",
     "text": [
      "p-значение: 0.03647561892312613\n",
      "Отвергаем нулевую гипотезу, CR в контрольной и тестовой группах отличаются.\n"
     ]
    }
   ],
   "source": [
    "statistic, p_value, dof, expected = chi2_contingency(cross_tab)\n",
    "\n",
    "\n",
    "print(\"p-значение:\", p_value)\n",
    "if p_value > alpha:\n",
    "    print(\"Не отвергаем нулевую гипотезу, CR в контрольной и тестовой группах не оличаются.\")    \n",
    "else:    \n",
    "    print(\"Отвергаем нулевую гипотезу, CR в контрольной и тестовой группах отличаются.\")"
   ]
  },
  {
   "cell_type": "markdown",
   "metadata": {},
   "source": [
    "Посмотрим, как конкретно изменилась конверсия в тестовой группе по сравнению с контрольной:\n",
    "- CR = число платящих пользователей / число всех пользователей"
   ]
  },
  {
   "cell_type": "code",
   "execution_count": 27,
   "metadata": {},
   "outputs": [],
   "source": [
    "data_by_group = data.groupby('testgroup') \\\n",
    "    .agg({'user_id': 'nunique', 'paying_users': 'sum'}) \\\n",
    "    .rename(columns={'user_id': 'all_users'})\n",
    "\n",
    "data_by_group['CR'] = data_by_group.paying_users / data_by_group.all_users * 100"
   ]
  },
  {
   "cell_type": "code",
   "execution_count": 28,
   "metadata": {},
   "outputs": [
    {
     "data": {
      "text/html": [
       "<div>\n",
       "<style scoped>\n",
       "    .dataframe tbody tr th:only-of-type {\n",
       "        vertical-align: middle;\n",
       "    }\n",
       "\n",
       "    .dataframe tbody tr th {\n",
       "        vertical-align: top;\n",
       "    }\n",
       "\n",
       "    .dataframe thead th {\n",
       "        text-align: right;\n",
       "    }\n",
       "</style>\n",
       "<table border=\"1\" class=\"dataframe\">\n",
       "  <thead>\n",
       "    <tr style=\"text-align: right;\">\n",
       "      <th></th>\n",
       "      <th>all_users</th>\n",
       "      <th>paying_users</th>\n",
       "      <th>CR</th>\n",
       "    </tr>\n",
       "    <tr>\n",
       "      <th>testgroup</th>\n",
       "      <th></th>\n",
       "      <th></th>\n",
       "      <th></th>\n",
       "    </tr>\n",
       "  </thead>\n",
       "  <tbody>\n",
       "    <tr>\n",
       "      <th>a</th>\n",
       "      <td>202103.0</td>\n",
       "      <td>1928.0</td>\n",
       "      <td>0.953969</td>\n",
       "    </tr>\n",
       "    <tr>\n",
       "      <th>b</th>\n",
       "      <td>202667.0</td>\n",
       "      <td>1805.0</td>\n",
       "      <td>0.890624</td>\n",
       "    </tr>\n",
       "    <tr>\n",
       "      <th>b</th>\n",
       "      <td>564.0</td>\n",
       "      <td>-123.0</td>\n",
       "      <td>-0.063345</td>\n",
       "    </tr>\n",
       "  </tbody>\n",
       "</table>\n",
       "</div>"
      ],
      "text/plain": [
       "           all_users  paying_users        CR\n",
       "testgroup                                   \n",
       "a           202103.0        1928.0  0.953969\n",
       "b           202667.0        1805.0  0.890624\n",
       "b              564.0        -123.0 -0.063345"
      ]
     },
     "execution_count": 28,
     "metadata": {},
     "output_type": "execute_result"
    }
   ],
   "source": [
    "diff_row = data_by_group.diff(axis=0).iloc[1:]\n",
    "data_by_group = data_by_group.append(diff_row)\n",
    "data_by_group"
   ]
  },
  {
   "cell_type": "markdown",
   "metadata": {},
   "source": [
    "Наблюдается снижение конверсии на 0,06%."
   ]
  },
  {
   "cell_type": "markdown",
   "metadata": {},
   "source": [
    "## Вывод"
   ]
  },
  {
   "cell_type": "markdown",
   "metadata": {},
   "source": [
    "В ходе проверки выяснилось, что повышение дохода с привлечённого пользователя (ARPU), а также дохода с платящего пользователя (ARPPU) не являются значимыми. Но в тестовой группе наблюдается значимое снижение конверсии в платящего пользователя на 0,06% по сравнению с контрольной. Что говорит о том, что **набор акционных предложений в контрольной группе лучше.** \n",
    "\n",
    "Однако был замечен слишком разный характер покупок у пользователей: либо слишком дорогие покупки (37293-37433), либо очень дешевые (200-400) у контрольной группы и покупки только средней ценовой категории (2000-4000) у тестовой группы. **Возможно, разделение на группы было проведено некорректно.**"
   ]
  }
 ],
 "metadata": {
  "kernelspec": {
   "display_name": "Python 3",
   "language": "python",
   "name": "python3"
  },
  "language_info": {
   "codemirror_mode": {
    "name": "ipython",
    "version": 3
   },
   "file_extension": ".py",
   "mimetype": "text/x-python",
   "name": "python",
   "nbconvert_exporter": "python",
   "pygments_lexer": "ipython3",
   "version": "3.7.3"
  }
 },
 "nbformat": 4,
 "nbformat_minor": 4
}
